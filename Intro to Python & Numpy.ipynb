{
 "cells": [
  {
   "cell_type": "markdown",
   "metadata": {
    "id": "0XhJosyXXuDI"
   },
   "source": [
    "In this notebook we'll familiarise ourselves with some Python! We'll be looking at the Python language syntax, writing functions in addition to learning how to use some third party functions for matrix manipulation."
   ]
  },
  {
   "cell_type": "markdown",
   "metadata": {
    "id": "7Jox1MFqap_0"
   },
   "source": [
    "### Functions"
   ]
  },
  {
   "cell_type": "markdown",
   "metadata": {
    "id": "KjILjA2OYL3K"
   },
   "source": [
    "Let's start off by looking at functions which are extremely useful and provided by almost all programming languages. A function is a named section of a program that implements a specific task."
   ]
  },
  {
   "cell_type": "markdown",
   "metadata": {
    "id": "bI-RUln6XMkt"
   },
   "source": [
    "### Syntax\n",
    "\n",
    "Here’s a very simple Python function, that implements the mathematical function\n",
    "$ f(x) = 2 x + 1 $"
   ]
  },
  {
   "cell_type": "code",
   "execution_count": null,
   "metadata": {
    "hide-output": false,
    "id": "xORrQ-EFXMkv"
   },
   "outputs": [],
   "source": [
    "def f(x):\n",
    "    return 2 * x + 1"
   ]
  },
  {
   "cell_type": "markdown",
   "metadata": {
    "id": "znS2kYqjXMkw"
   },
   "source": [
    "Let’s review the syntax here.\n",
    "\n",
    "- `def` is a Python keyword used to start function definitions.  \n",
    "- `def f(x):` indicates that the function is called `f` and that it has a single input argument `x`.  \n",
    "- The indented code is a code block called the *function body*.  \n",
    "- The `return` keyword indicates that `2 * x + 1` is the object that should be returned to the calling code."
   ]
  },
  {
   "cell_type": "markdown",
   "metadata": {
    "id": "owtqJQfVXMkv"
   },
   "source": [
    "Now that we’ve *defined* this function, let’s *call* it and check whether it\n",
    "does what we expect:"
   ]
  },
  {
   "cell_type": "code",
   "execution_count": null,
   "metadata": {
    "hide-output": false,
    "id": "QWoUiIXWXMkv"
   },
   "outputs": [],
   "source": [
    "f(1)"
   ]
  },
  {
   "cell_type": "code",
   "execution_count": null,
   "metadata": {
    "hide-output": false,
    "id": "CyQNy09nXMkv"
   },
   "outputs": [],
   "source": [
    "f(10)"
   ]
  },
  {
   "cell_type": "markdown",
   "metadata": {
    "id": "fEB6Oy6Ea1bM"
   },
   "source": [
    "You can also have functions that take in multiple inputs such as the mathematical function $g(x, y) = 3x + 1.5y + 3$"
   ]
  },
  {
   "cell_type": "code",
   "execution_count": null,
   "metadata": {
    "id": "FzIccnnGbBR0"
   },
   "outputs": [],
   "source": [
    "def g(x, y):\n",
    "  return 3*x+1.5*y+3"
   ]
  },
  {
   "cell_type": "markdown",
   "metadata": {
    "id": "rTy-Omc9bK22"
   },
   "source": [
    "Let's call the function for some test values to check what it returns"
   ]
  },
  {
   "cell_type": "code",
   "execution_count": null,
   "metadata": {
    "id": "DFqVVXUBbP1Y"
   },
   "outputs": [],
   "source": [
    "g(2, 4)"
   ]
  },
  {
   "cell_type": "markdown",
   "metadata": {
    "id": "9Y4_rLeOZeni"
   },
   "source": [
    "### Exercise 1\n",
    "\n"
   ]
  },
  {
   "cell_type": "markdown",
   "metadata": {
    "id": "NV5-0OHSZwKh"
   },
   "source": [
    "Similar to the example above code a function to implement the mathematical function $h(x, y)=4.5x-3y+7$ and test it for values of $x=1.3$ and $x=4.2$. Are the values returned by the function what you expected?"
   ]
  },
  {
   "cell_type": "code",
   "execution_count": null,
   "metadata": {
    "id": "L9awvA8NaHXi"
   },
   "outputs": [],
   "source": [
    "def h(x, y):\n",
    "  # Insert your code here and comment the line below by adding a '#' symbol at the start of the line. Or you could also, just delete it!\n",
    "  # Commented lines like this one are ignored in the execution of the program!\n",
    "  raise NotImplementedError"
   ]
  },
  {
   "cell_type": "markdown",
   "metadata": {
    "id": "wlNO9DFpreB2"
   },
   "source": [
    "Test your function below for some different input values"
   ]
  },
  {
   "cell_type": "code",
   "execution_count": null,
   "metadata": {
    "id": "URX5YM_Fab9V"
   },
   "outputs": [],
   "source": [
    "# Test your function for some different input values here"
   ]
  },
  {
   "cell_type": "markdown",
   "metadata": {
    "id": "Ly4YxvV1bpQW"
   },
   "source": [
    "### Third Party Functions"
   ]
  },
  {
   "cell_type": "markdown",
   "metadata": {
    "id": "e3-UWQeZb7md"
   },
   "source": [
    "We don't always need to write functions ourselves in order to do a specific task. Most of the time, we can reuse third party functions by importing into our program. In this section, we'll look at the Numpy Package that contains functions used for matrix manipulation which we'll need for the next workbooks."
   ]
  },
  {
   "cell_type": "markdown",
   "metadata": {
    "id": "2J3AlcdncRdQ"
   },
   "source": [
    "###Numpy"
   ]
  },
  {
   "cell_type": "markdown",
   "metadata": {
    "id": "1fYuG4tkd4vY"
   },
   "source": [
    "The Numpy package contains functions that we can use to store and operate on matrices. Let's look at some of the syntax and functions that will be useful in the next notebooks."
   ]
  },
  {
   "cell_type": "markdown",
   "metadata": {
    "id": "AJSfsYK9i3M-"
   },
   "source": [
    "We'll start of by importing the Numpy package"
   ]
  },
  {
   "cell_type": "code",
   "execution_count": null,
   "metadata": {
    "id": "Wh1eh7QYi7QI"
   },
   "outputs": [],
   "source": [
    "import numpy as np # import the 'numpy' package with the name 'np'"
   ]
  },
  {
   "cell_type": "markdown",
   "metadata": {
    "id": "T7K--1LFmDFA"
   },
   "source": [
    "### Arrays"
   ]
  },
  {
   "cell_type": "markdown",
   "metadata": {
    "id": "ZjUGdWzBjDt-"
   },
   "source": [
    "Next we'll create an array, which is a 1 dimensional matrix, from a list of numbers and store it in the variable 'arr'. We'll also display the array by using the python built-in 'print' function. Additionally, we'll print the shape, which is how many rows and columns the array has, by accessing the shape property of the 'arr' variable."
   ]
  },
  {
   "cell_type": "code",
   "execution_count": null,
   "metadata": {
    "id": "-Lb8rM7zjUGb"
   },
   "outputs": [],
   "source": [
    "arr = np.array([[3.14, 4, 2, 3]]) # The syntax np.array means that the 'array' function is in the 'np' or 'numpy' package\n",
    "\n",
    "print(arr)              # display the contents of the array stored in 'arr'\n",
    "print(arr.shape)        # access that shape of the array and display"
   ]
  },
  {
   "cell_type": "markdown",
   "metadata": {
    "id": "89-dKb7--l4J"
   },
   "source": [
    "We can also transpose our array which has 1 row and 4 columns to get an array which has 4 columns and 1 row as shown below"
   ]
  },
  {
   "cell_type": "code",
   "execution_count": null,
   "metadata": {
    "id": "Q0NuJHjS-2qN"
   },
   "outputs": [],
   "source": [
    "arr_t = arr.T\n",
    "print(arr)\n",
    "print(arr.shape)"
   ]
  },
  {
   "cell_type": "markdown",
   "metadata": {
    "id": "bgzS0L5ckTbQ"
   },
   "source": [
    "Now that we have an array stored in the 'arr' variable, we can also access any elements in the array by using their indices. Note that counting in the programming world start from '0' not the usual '1' that we use in mathematics. Let's access the element in the 1st and only row and the 2nd column in the code block below. In our program, the index of the element would be (0, 1) instead of (1, 2)!"
   ]
  },
  {
   "cell_type": "code",
   "execution_count": null,
   "metadata": {
    "id": "sYjgI5utk5yg"
   },
   "outputs": [],
   "source": [
    "element = arr[0, 1]\n",
    "\n",
    "print(element)"
   ]
  },
  {
   "cell_type": "markdown",
   "metadata": {
    "id": "mfiJJfkLrhgW"
   },
   "source": [
    "We can also have 2-D arrays. The syntax for creating the 2-D array below is shown in the next code block\n",
    "\n",
    "$ arr2d = \\begin{bmatrix}\n",
    "1 & 2 & 3 \\\\\n",
    "4 & 5 & 6 \\\\\n",
    "7 & 8 & 9 \n",
    "\\end{bmatrix}  $"
   ]
  },
  {
   "cell_type": "code",
   "execution_count": null,
   "metadata": {
    "id": "ox7UsFLQsP81"
   },
   "outputs": [],
   "source": [
    "arr2d = np.array([[1, 2, 3], [4, 5, 6], [7, 8, 9]])\n",
    "print(arr2d)"
   ]
  },
  {
   "cell_type": "markdown",
   "metadata": {
    "id": "ws-GVe9s9vFE"
   },
   "source": [
    "Simillar to the previous code blocks we can access elements of the 2d array by their indices. We'll access the element in the 3rd row and 2nd column and save it to the 'element2' variable, before displaying it. Remember that since counting in programming starts from '0', the element at (3, 2) would be accessed with the index (2, 1)."
   ]
  },
  {
   "cell_type": "code",
   "execution_count": null,
   "metadata": {
    "id": "xK1jkt9Es5y_"
   },
   "outputs": [],
   "source": [
    "element2 = arr2d[2, 1]\n",
    "print(element2)"
   ]
  },
  {
   "cell_type": "markdown",
   "metadata": {
    "id": "JcKBfC5T_SMp"
   },
   "source": [
    "In addition to picking out elements from the 2-D array we can pick out multiple elements from the arrays as well. This is called picking out a 'slice' of the data. The code blocks below show how to pick out all the elements of the 2nd row. This is done by selecting the 2nd row with its index, which would be 1, and specifying all columns by the ':' operator"
   ]
  },
  {
   "cell_type": "code",
   "execution_count": null,
   "metadata": {
    "id": "ytNL4hKkAPZx"
   },
   "outputs": [],
   "source": [
    "row2 = arr2d[1,:]\n",
    "print(row2)"
   ]
  },
  {
   "cell_type": "markdown",
   "metadata": {
    "id": "-EUIGJrEAUTD"
   },
   "source": [
    "Similarly we can pick out only the 2nd column from the 2d array"
   ]
  },
  {
   "cell_type": "code",
   "execution_count": null,
   "metadata": {
    "id": "PEq6aFk3AYa9"
   },
   "outputs": [],
   "source": [
    "col2 = arr2d[:, 1]\n",
    "print(col2)"
   ]
  },
  {
   "cell_type": "markdown",
   "metadata": {
    "id": "FKCJUZarAeut"
   },
   "source": [
    "Or if we want, we can pick the elements from the 2nd column onwards in the 2nd row by giving the starting point before the ':' operator when specifying the column index as below"
   ]
  },
  {
   "cell_type": "code",
   "execution_count": null,
   "metadata": {
    "id": "ZVXkhwZtAzd5"
   },
   "outputs": [],
   "source": [
    "row2_part = arr2d[1,1:]\n",
    "print(row2_part)"
   ]
  },
  {
   "cell_type": "markdown",
   "metadata": {
    "id": "cglmB1vXmFs0"
   },
   "source": [
    "### Print"
   ]
  },
  {
   "cell_type": "markdown",
   "metadata": {
    "id": "cYxBk-4VlIcO"
   },
   "source": [
    "We can use the print function to display sentences or 'strings' as well. The syntax for storing a string is shown below where the sentence is placed in 2 apostrophes (') or ditto marks (\"). We'll store a string in the variable, 'my_string1' and display it"
   ]
  },
  {
   "cell_type": "code",
   "execution_count": null,
   "metadata": {
    "id": "MdlvtsqOl1Zk"
   },
   "outputs": [],
   "source": [
    "my_string1 = 'Hello World!'\n",
    "\n",
    "print(my_string1)"
   ]
  },
  {
   "cell_type": "markdown",
   "metadata": {
    "id": "ScdbvAOtmArK"
   },
   "source": [
    "We can also print string and arrays in one line. However, to do so we have to convert the array to a string using 'str()' function and concatenate the two together using the '+' operator as shown below"
   ]
  },
  {
   "cell_type": "code",
   "execution_count": null,
   "metadata": {
    "id": "wJX-XNKtmv4s"
   },
   "outputs": [],
   "source": [
    "my_string2 = 'Array: '\n",
    "print(my_string2 + str(arr))\n",
    "\n",
    "my_string3 = 'Element (0, 1): '\n",
    "print(my_string3 + str(element) )"
   ]
  },
  {
   "cell_type": "markdown",
   "metadata": {
    "id": "LuVI2pttnJIq"
   },
   "source": [
    "### Exercise 2\n",
    "\n",
    "Create an array with 1 row and 3 columns with values '[3.0, 5.5, 1.0]' and assign it to the variable 'my_arr1'. Display the value using the print function"
   ]
  },
  {
   "cell_type": "code",
   "execution_count": null,
   "metadata": {
    "id": "C0ZHJ-JnntxK"
   },
   "outputs": [],
   "source": [
    "# fill in the data for the array in the line below and then display the data\n",
    "my_arr1 = np.array([[]])"
   ]
  },
  {
   "cell_type": "markdown",
   "metadata": {
    "id": "6cWanam0qR_y"
   },
   "source": [
    "###Exercise 3\n",
    "Create an array with 2 rows and 4 columns with values shown below and assign it to the variable 'my_arr1'.\n",
    "\n",
    "$my\\_arr1 = \\begin{bmatrix}\n",
    "1.5 & 4 & 7 & 3 \\\\\n",
    "2 & 0 & 1 & 5 \n",
    "\\end{bmatrix}  $\n",
    "\n",
    "Then create a function which takes in two inputs and returns the sum of the two numbers. Test your function by passing the two elements in the 2nd row and 1st and 4th column of the array to the function"
   ]
  },
  {
   "cell_type": "code",
   "execution_count": null,
   "metadata": {
    "id": "mzNUD9WzrCvE"
   },
   "outputs": [],
   "source": [
    "def f(x1, x2):\n",
    "  # Insert your code here and comment the line below by adding a '#' symbol at the start of the line. Or you could also, just delete it!\n",
    "  assert NotImplementedError"
   ]
  },
  {
   "cell_type": "markdown",
   "metadata": {
    "id": "ieukwMFWtdjL"
   },
   "source": [
    "### Some More Usefuly Numpy Functions"
   ]
  },
  {
   "cell_type": "markdown",
   "metadata": {
    "id": "zoxHY0GRtiZb"
   },
   "source": [
    "### (Element-wise) Power"
   ]
  },
  {
   "cell_type": "markdown",
   "metadata": {
    "id": "U7Vyzc1buAIA"
   },
   "source": [
    "The np.power() function raises every element in an array to a given number. The code block below implements the function below by declaring a 2D array and raising it to the power of 3. Try running the code block below to see if the result is what you'd expect.\n",
    "\n",
    "$ A = \\begin{bmatrix}\n",
    "1 & 2 \\\\\n",
    "3 & 4 \n",
    "\\end{bmatrix}^{\\odot3}  $"
   ]
  },
  {
   "cell_type": "code",
   "execution_count": null,
   "metadata": {
    "id": "Hq4BLQKUt_IT"
   },
   "outputs": [],
   "source": [
    "my_arr = np.array([[1, 2], [3, 4]])\n",
    "\n",
    "A = np.power(my_arr, 3)\n",
    "print(A)"
   ]
  },
  {
   "cell_type": "markdown",
   "metadata": {
    "id": "Rdy-ki1tu6E3"
   },
   "source": [
    "### Sum\n",
    "We can also sum all or some of the elements in an array using the np.sum() function. For a 2-D array with 2 axes, the first being the rows axis and the second being the column axes, we can sum along either 1 of the axes or we can sum up the entire array. This is shown in the code block below where we'll sum the elements of the 'my_arr' 2-D aray along the rows, columns in addition to summing all elements in the array\n",
    "\n",
    "$ A = \\begin{bmatrix}\n",
    "1 & 2 \\\\\n",
    "3 & 4 \n",
    "\\end{bmatrix} $"
   ]
  },
  {
   "cell_type": "code",
   "execution_count": null,
   "metadata": {
    "id": "ceQC9xntv4SF"
   },
   "outputs": [],
   "source": [
    "my_arr = np.array([[1, 2], [3, 4]])\n",
    "print(my_arr)"
   ]
  },
  {
   "cell_type": "code",
   "execution_count": null,
   "metadata": {
    "id": "WWS53aB1wtC4"
   },
   "outputs": [],
   "source": [
    "sum_rows = np.sum(my_arr, 1)\n",
    "print('sum_rows = ' + str(sum_rows))"
   ]
  },
  {
   "cell_type": "code",
   "execution_count": null,
   "metadata": {
    "id": "H8SvnusIwuvk"
   },
   "outputs": [],
   "source": [
    "sum_cols = np.sum(my_arr, 0)\n",
    "print('sum_cols = ' + str(sum_cols))"
   ]
  },
  {
   "cell_type": "code",
   "execution_count": null,
   "metadata": {
    "id": "LxNNzxeUxCUz"
   },
   "outputs": [],
   "source": [
    "sum_arr = np.sum(my_arr)\n",
    "print('sum_array = ' + str(sum_arr))"
   ]
  },
  {
   "cell_type": "markdown",
   "metadata": {
    "id": "EqxkYdnXxOp3"
   },
   "source": [
    "### Exercise 4\n",
    "Write a function that will take in 3 inputs. The first two inputs will be two 2-D arrays of the same size with 3 rows and 3 columns each. The third argument will be an integer number. The function should raise all elements of the two input arrays to the third input integer number. After this the function will add the two raise 2-D arrays before returning the sum of all the elements of the resulting array. The functions is mathematically shown below where $A$ and $B$ are the input 2-D arrays and $p$ is the power to which the elements of the 2-D arrays will be raised. $C$ is the final number that should be returned.\n",
    "\n",
    "$C = sum(A^{\\odot p} + B^{\\odot p})$\n",
    "\n"
   ]
  },
  {
   "cell_type": "code",
   "execution_count": null,
   "metadata": {
    "id": "vsK76oP-ygoX"
   },
   "outputs": [],
   "source": [
    "def f(A, B, p):\n",
    "  # Insert your code here and comment the line below by adding a '#' symbol at the start of the line. Or you could also, just delete it!\n",
    "  raise NotImplementedError"
   ]
  }
 ],
 "metadata": {
  "colab": {
   "collapsed_sections": [],
   "name": "Intro to Python & Numpy.ipynb",
   "provenance": []
  },
  "kernelspec": {
   "display_name": "Python 3 (ipykernel)",
   "language": "python",
   "name": "python3"
  },
  "language_info": {
   "codemirror_mode": {
    "name": "ipython",
    "version": 3
   },
   "file_extension": ".py",
   "mimetype": "text/x-python",
   "name": "python",
   "nbconvert_exporter": "python",
   "pygments_lexer": "ipython3",
   "version": "3.10.11"
  }
 },
 "nbformat": 4,
 "nbformat_minor": 1
}
